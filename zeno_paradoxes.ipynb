{
 "cells": [
  {
   "cell_type": "markdown",
   "id": "6855e185-4d3d-4b4e-8dc9-ca73f7a4bb8f",
   "metadata": {},
   "source": [
    "## 1️ Paradoxe d’Achille et la tortue"
   ]
  },
  {
   "cell_type": "code",
   "execution_count": 1,
   "id": "888bb2bd",
   "metadata": {},
   "outputs": [
    {
     "name": "stdout",
     "output_type": "stream",
     "text": [
      "t=1s, Achille=7, Tortue=15\n",
      "t=2s, Achille=14, Tortue=20\n",
      "t=3s, Achille=21, Tortue=25\n",
      "t=4s, Achille=28, Tortue=30\n",
      "t=5s, Achille=35, Tortue=35\n",
      "Achille a rattrapé la tortue en 5 secondes\n"
     ]
    }
   ],
   "source": [
    "# Positions initiales\n",
    "achille = 0\n",
    "tortue = 10\n",
    "\n",
    "# Vitesses (m/s)\n",
    "v_achille = 7\n",
    "v_tortue = 5\n",
    "\n",
    "# Temps écoulé\n",
    "t = 0\n",
    "\n",
    "# Boucle : on avance à chaque secondee\n",
    "while achille < tortue:\n",
    "    achille += v_achille  # TODO : compléter la formule de déplacement d'Achille !\n",
    "    tortue += v_tortue \n",
    "    t += 1\n",
    "    print(f\"t={t}s, Achille={achille}, Tortue={tortue}\")\n",
    "\n",
    "print(\"Achille a rattrapé la tortue en\", t, \"secondes\")\n"
   ]
  },
  {
   "cell_type": "markdown",
   "id": "470b4df7",
   "metadata": {},
   "source": [
    "#### Visualistion"
   ]
  },
  {
   "cell_type": "code",
   "execution_count": 4,
   "id": "42119c8b",
   "metadata": {},
   "outputs": [
    {
     "name": "stdout",
     "output_type": "stream",
     "text": [
      "pygame 2.6.1 (SDL 2.28.4, Python 3.12.7)\n",
      "Hello from the pygame community. https://www.pygame.org/contribute.html\n"
     ]
    },
    {
     "ename": "SystemExit",
     "evalue": "",
     "output_type": "error",
     "traceback": [
      "An exception has occurred, use %tb to see the full traceback.\n",
      "\u001b[1;31mSystemExit\u001b[0m\n"
     ]
    },
    {
     "name": "stderr",
     "output_type": "stream",
     "text": [
      "c:\\Users\\alexc\\anaconda3\\Lib\\site-packages\\IPython\\core\\interactiveshell.py:3585: UserWarning: To exit: use 'exit', 'quit', or Ctrl-D.\n",
      "  warn(\"To exit: use 'exit', 'quit', or Ctrl-D.\", stacklevel=1)\n"
     ]
    }
   ],
   "source": [
    "import pygame\n",
    "import sys\n",
    "\n",
    "def simulation(v_achille):\n",
    "    # --- Données initiales ---\n",
    "    achille = 0\n",
    "    tortue = 100   # position initiale (pixels)\n",
    "    v_tortue = 5   # pixels/frame\n",
    "    t = 0\n",
    "    arrivee = False\n",
    "\n",
    "    # --- Pygame setup ---\n",
    "    pygame.init()\n",
    "    largeur, hauteur = 800, 300\n",
    "    fenetre = pygame.display.set_mode((largeur, hauteur))\n",
    "    pygame.display.set_caption(\"Achille et la Tortue\")\n",
    "\n",
    "    blanc = (255, 255, 255)\n",
    "    rouge = (255, 0, 0)\n",
    "    vert = (0, 200, 0)\n",
    "    noir = (0, 0, 0)\n",
    "    font = pygame.font.SysFont(None, 36)\n",
    "\n",
    "    clock = pygame.time.Clock()\n",
    "\n",
    "    # --- Boucle principale ---\n",
    "    running = True\n",
    "    while running:\n",
    "        for event in pygame.event.get():\n",
    "            if event.type == pygame.QUIT:\n",
    "                pygame.quit()\n",
    "                sys.exit()\n",
    "\n",
    "        if not arrivee:\n",
    "            # Mise à jour des positions (plus fluide, frame par frame)\n",
    "            achille += v_achille * 0.1\n",
    "            tortue += v_tortue * 0.1\n",
    "            t += 0.1\n",
    "\n",
    "        # Effacer l'écran\n",
    "        fenetre.fill(blanc)\n",
    "\n",
    "        # Dessiner Achille (cercle rouge) et la Tortue (cercle vert)\n",
    "        pygame.draw.circle(fenetre, rouge, (int(achille), hauteur//3), 20)\n",
    "        pygame.draw.circle(fenetre, vert, (int(tortue), 2*hauteur//3), 20)\n",
    "\n",
    "        # Afficher le temps\n",
    "        texte = font.render(f\"t = {t:.1f}s\", True, noir)\n",
    "        fenetre.blit(texte, (10, 10))\n",
    "\n",
    "        # Condition de fin\n",
    "        if not arrivee and achille >= tortue:\n",
    "            arrivee = True\n",
    "            result = font.render(f\"Achille a rattrapé la tortue en {t:.1f}s\", True, noir)\n",
    "            fenetre.blit(result, (50, hauteur//2))\n",
    "\n",
    "            choix = font.render(\"Appuyez sur R pour rejouer ou Q pour quitter\", True, noir)\n",
    "            fenetre.blit(choix, (50, hauteur//2 + 40))\n",
    "\n",
    "        # Si simulation terminée → attendre choix utilisateur\n",
    "        if arrivee:\n",
    "            keys = pygame.key.get_pressed()\n",
    "            if keys[pygame.K_q]:\n",
    "                pygame.quit()\n",
    "                sys.exit()\n",
    "            elif keys[pygame.K_r]:\n",
    "                return  # relancer la simulation\n",
    "\n",
    "        pygame.display.flip()\n",
    "        clock.tick(60)  # 60 FPS (fluide)\n",
    "\n",
    "\n",
    "# --- Boucle globale pour gérer relance ---\n",
    "while True:\n",
    "    try:\n",
    "        v_achille = float(input(\"Entrez la vitesse d'Achille (ex: 7): \"))\n",
    "    except ValueError:\n",
    "        v_achille = 7  # valeur par défaut si mauvaise saisie\n",
    "\n",
    "    simulation(v_achille)\n"
   ]
  },
  {
   "cell_type": "markdown",
   "id": "9eb3a4f4-bebd-4bfd-ad6a-b605fa31c695",
   "metadata": {},
   "source": [
    "## 2️ Paradoxe de la dichotomie"
   ]
  },
  {
   "cell_type": "markdown",
   "id": "2e912fd8-26a7-4338-8e7e-91799026c4ed",
   "metadata": {},
   "source": [
    "## 3️ Paradoxe de la flèche en vol"
   ]
  }
 ],
 "metadata": {
  "kernelspec": {
   "display_name": "base",
   "language": "python",
   "name": "python3"
  },
  "language_info": {
   "codemirror_mode": {
    "name": "ipython",
    "version": 3
   },
   "file_extension": ".py",
   "mimetype": "text/x-python",
   "name": "python",
   "nbconvert_exporter": "python",
   "pygments_lexer": "ipython3",
   "version": "3.12.7"
  }
 },
 "nbformat": 4,
 "nbformat_minor": 5
}
