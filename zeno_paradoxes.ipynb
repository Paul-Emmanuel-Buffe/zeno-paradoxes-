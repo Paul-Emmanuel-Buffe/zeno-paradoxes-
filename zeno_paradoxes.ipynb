{
 "cells": [
  {
   "cell_type": "markdown",
   "id": "6855e185-4d3d-4b4e-8dc9-ca73f7a4bb8f",
   "metadata": {},
   "source": [
    "## 1️ Paradoxe d’Achille et la tortue"
   ]
  },
  {
   "cell_type": "markdown",
   "id": "9eb3a4f4-bebd-4bfd-ad6a-b605fa31c695",
   "metadata": {},
   "source": [
    "## 2️ Paradoxe de la dichotomie"
   ]
  },
  {
   "cell_type": "markdown",
   "id": "2e912fd8-26a7-4338-8e7e-91799026c4ed",
   "metadata": {},
   "source": [
    "## 3️ Paradoxe de la flèche en vol"
   ]
  }
 ],
 "metadata": {
  "kernelspec": {
   "display_name": "",
   "name": ""
  },
  "language_info": {
   "name": ""
  }
 },
 "nbformat": 4,
 "nbformat_minor": 5
}
