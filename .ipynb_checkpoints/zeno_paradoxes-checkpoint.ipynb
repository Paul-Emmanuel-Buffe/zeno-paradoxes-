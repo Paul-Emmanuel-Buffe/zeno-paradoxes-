{
 "cells": [
  {
   "cell_type": "markdown",
   "id": "6855e185-4d3d-4b4e-8dc9-ca73f7a4bb8f",
   "metadata": {},
   "source": [
    "## 1️ Paradoxe d’Achille et la tortue"
   ]
  },
  {
   "cell_type": "markdown",
   "id": "9eb3a4f4-bebd-4bfd-ad6a-b605fa31c695",
   "metadata": {},
   "source": [
    "## 2️ Paradoxe de la dichotomie"
   ]
  },
  {
   "cell_type": "markdown",
   "id": "2e912fd8-26a7-4338-8e7e-91799026c4ed",
   "metadata": {},
   "source": [
    "## 3️ Paradoxe de la flèche en vol"
   ]
  },
  {
   "cell_type": "markdown",
   "id": "8571783c-8a09-4910-b044-e34d01c9a57a",
   "metadata": {},
   "source": [
    "### 2500 ans de casse-tête\n",
    "Le philosophe grec Zénon affirmait : \"À chaque instant, la flèche occupe un espace égal à elle-même, donc elle est au repos à chaque instant, donc toujours au repos.\" Comment quelque chose peut-il bouger si elle est immobile à chaque instant ?\n"
   ]
  },
  {
   "cell_type": "code",
   "execution_count": null,
   "id": "36283e00-0b7a-43c2-9e07-2b3774105f3b",
   "metadata": {},
   "outputs": [],
   "source": [
    "### Paramètres de l'observation\n",
    "# Durée totale de la simulation en secondes\n",
    "temps_total = 2  \n",
    "# Vitesse (m/s)\n",
    "v = 5\n",
    "# Distance totale à parcourir\n",
    "distance = 10\n",
    "# Durée totale de la simulation en secondes\n",
    "temps_total = 2  \n",
    "# Pas de temps / Intervalle de temps\n",
    "dt = 0.1\n",
    "\n",
    "print(f\"Vitesse: {v} m/s, Distance cible: {distance} m, Pas de temps: {dt} s\")\n",
    "print()\n",
    "\n",
    "## Initialisation de l'observation\n",
    "# Temps initial / début de l'observation\n",
    "t = 0\n",
    "# Position initiale\n",
    "x = 0\n",
    "# Distance parcourue\n",
    "dist_parcourue = 0\n",
    "# Compteur d'étapes\n",
    "step = 0\n",
    "\n",
    "print(f\"Début: t={round(t,2)}s → position={round(x,2)}m\")\n",
    "\n",
    "while x < distance :\n",
    "    parcouru_pendant_dt = dt * v\n",
    "    x = x + parcouru_pendant_dt\n",
    "    t += dt\n",
    "    step += 1\n",
    "    print(f\"Étape {step}: t={round(t,3)} → position={round(x,2)}m (+{round(parcouru_pendant_dt,2)}m)\")\n",
    "\n",
    "print()\n",
    "print(f\"✓ Objectif atteint en {step} étapes - Position finale: {round(x,4)} m\")"
   ]
  },
  {
   "cell_type": "markdown",
   "id": "c9e07ab8-89ec-41d3-b4a3-a0b39cc9bdc7",
   "metadata": {},
   "source": [
    "## Visualisation\n",
    "\n",
    "### Commençons par un vraie flèche"
   ]
  },
  {
   "cell_type": "code",
   "execution_count": 63,
   "id": "537b9d65-81d9-47bf-880d-b9cee9bcb08f",
   "metadata": {},
   "outputs": [
    {
     "data": {
      "image/png": "[encoded data removed]",
      "text/plain": [
       "<Figure size 640x480 with 1 Axes>"
      ]
     },
     "metadata": {},
     "output_type": "display_data"
    }
   ],
   "source": [
    "import pygame\n",
    "import numpy as np\n",
    "import matplotlib.pyplot as plt\n",
    "\n",
    "pygame.init()\n",
    "w, h = 360, 40\n",
    "surf = pygame.Surface((w, h))\n",
    "\n",
    "def draw_arrow():\n",
    "    surf.fill((255, 255, 255))\n",
    "    cx, cy = w // 2, h // 2\n",
    "    start, end = 20, w - 60  # marge pour pointe et plumes\n",
    "\n",
    "    # Corps de la flèche\n",
    "    pygame.draw.line(surf, (139, 69, 19), (start, cy), (end, cy), 4)\n",
    "\n",
    "    # Pointe\n",
    "    pygame.draw.polygon(surf, (192, 192, 192), [(end + 20, cy), (end, cy - 10), (end, cy + 10)])\n",
    "\n",
    "    # Plumes\n",
    "    pygame.draw.polygon(surf, (200, 100, 50), [(start, cy), (start - 20, cy - 10), (start - 10, cy)])\n",
    "    pygame.draw.polygon(surf, (200, 100, 50), [(start, cy), (start - 20, cy + 10), (start - 10, cy)])\n",
    "\n",
    "    # Point rouge\n",
    "    pygame.draw.circle(surf, (255, 0, 0), (cx, cy), 6)\n",
    "\n",
    "    # Affichage\n",
    "    img = np.transpose(pygame.surfarray.array3d(surf), (1, 0, 2))\n",
    "    plt.imshow(img); plt.axis(\"off\"); plt.show()\n",
    "\n",
    "draw_arrow()"
   ]
  },
  {
   "cell_type": "markdown",
   "id": "27d5f0db-d5ea-451c-8414-df8b67eccb8f",
   "metadata": {},
   "source": [
    "### Zenon prétend que ceci est une illusion"
   ]
  },
  {
   "cell_type": "code",
   "execution_count": 65,
   "id": "be4dec7b-61eb-473e-8d22-1894a37f97a2",
   "metadata": {},
   "outputs": [
    {
     "data": {
      "image/png": "[encoded data removed]",
      "text/plain": [
       "<Figure size 1000x300 with 1 Axes>"
      ]
     },
     "metadata": {},
     "output_type": "display_data"
    },
    {
     "name": "stdout",
     "output_type": "stream",
     "text": [
      "✓ Objectif atteint\n"
     ]
    }
   ],
   "source": [
    "import pygame\n",
    "import numpy as np\n",
    "import matplotlib.pyplot as plt\n",
    "from IPython.display import clear_output\n",
    "import time\n",
    "\n",
    "# Initialiser pygame\n",
    "pygame.init()\n",
    "\n",
    "# Paramètres\n",
    "v = 100\n",
    "distance = 10\n",
    "dt = 0.005\n",
    "width, height = 600, 200\n",
    "radius = 8\n",
    "start_x, end_x = 50, width-50\n",
    "line_y = height // 2\n",
    "target_w, target_h = 10, 50\n",
    "\n",
    "surface = pygame.Surface((width, height))\n",
    "x = 0\n",
    "\n",
    "while x / distance < 1.0:\n",
    "    x_progress = min(x / distance, 1.0)\n",
    "    arrow_x = start_x + x_progress * (end_x - start_x)\n",
    "    \n",
    "    # Effacer surface\n",
    "    surface.fill((240, 240, 240))\n",
    "    \n",
    "    # Ligne, cible et point rouge\n",
    "    pygame.draw.line(surface, (0, 0, 0), (start_x, line_y), (end_x, line_y), 2)\n",
    "    pygame.draw.rect(surface, (0, 0, 255), \n",
    "                     (end_x - target_w//2, line_y - target_h//2, target_w, target_h))\n",
    "    pygame.draw.circle(surface, (255, 0, 0), (int(arrow_x), line_y), radius)\n",
    "    \n",
    "    # Afficher dans le notebook\n",
    "    img = np.transpose(pygame.surfarray.array3d(surface), (1,0,2))\n",
    "    clear_output(wait=True)\n",
    "    plt.figure(figsize=(10,3))\n",
    "    plt.imshow(img)\n",
    "    plt.axis('off')\n",
    "    plt.show()\n",
    "    \n",
    "    # Avancer\n",
    "    x += v * dt\n",
    "    time.sleep(dt)\n",
    "\n",
    "# Afficher la dernière frame avec le point exactement sur la cible\n",
    "arrow_x = end_x\n",
    "surface.fill((240, 240, 240))\n",
    "pygame.draw.line(surface, (0, 0, 0), (start_x, line_y), (end_x, line_y), 2)\n",
    "pygame.draw.rect(surface, (0, 0, 255), \n",
    "                 (end_x - target_w//2, line_y - target_h//2, target_w, target_h))\n",
    "pygame.draw.circle(surface, (255, 0, 0), (int(arrow_x), line_y), radius)\n",
    "\n",
    "img = np.transpose(pygame.surfarray.array3d(surface), (1,0,2))\n",
    "clear_output(wait=True)\n",
    "plt.figure(figsize=(10,3))\n",
    "plt.imshow(img)\n",
    "plt.axis('off')\n",
    "plt.show()\n",
    "\n",
    "print(\"✓ Objectif atteint\")\n"
   ]
  },
  {
   "cell_type": "code",
   "execution_count": 66,
   "id": "8e180e9b-c175-431b-8845-6026e43807ea",
   "metadata": {
    "scrolled": true
   },
   "outputs": [
    {
     "data": {
      "image/png": "[encoded data removed]",
      "text/plain": [
       "<Figure size 1000x300 with 1 Axes>"
      ]
     },
     "metadata": {},
     "output_type": "display_data"
    }
   ],
   "source": [
    "import pygame\n",
    "import numpy as np\n",
    "import matplotlib.pyplot as plt\n",
    "from IPython.display import clear_output\n",
    "import time\n",
    "\n",
    "# Initialiser pygame\n",
    "pygame.init()\n",
    "\n",
    "# Paramètres\n",
    "v = 100\n",
    "distance = 10\n",
    "dt = 0.005\n",
    "width, height = 600, 200\n",
    "radius = 8\n",
    "start_x, end_x = 50, width-50\n",
    "line_y = height // 2\n",
    "target_w, target_h = 10, 50\n",
    "\n",
    "surface = pygame.Surface((width, height))\n",
    "x = 0\n",
    "\n",
    "while x / distance < 1.0:\n",
    "    x_progress = min(x / distance, 1.0)\n",
    "    arrow_x = start_x + x_progress * (end_x - start_x)\n",
    "    \n",
    "    # Effacer surface\n",
    "    surface.fill((240, 240, 240))\n",
    "    \n",
    "    # Ligne, cible et point rouge\n",
    "    pygame.draw.line(surface, (0, 0, 0), (start_x, line_y), (end_x, line_y), 2)\n",
    "    pygame.draw.rect(surface, (0, 0, 255), \n",
    "                     (end_x - target_w//2, line_y - target_h//2, target_w, target_h))\n",
    "    pygame.draw.circle(surface, (255, 0, 0), (int(arrow_x), line_y), radius)\n",
    "    \n",
    "    # Afficher dans le notebook\n",
    "    img = np.transpose(pygame.surfarray.array3d(surface), (1,0,2))\n",
    "    clear_output(wait=True)\n",
    "    plt.figure(figsize=(10,3))\n",
    "    plt.imshow(img)\n",
    "    plt.axis('off')\n",
    "    plt.show()\n",
    "    \n",
    "    # Avancer\n",
    "    x += v * dt\n",
    "    time.sleep(dt)\n",
    "\n",
    "# Afficher la dernière frame avec le point exactement sur la cible\n",
    "arrow_x = end_x\n",
    "surface.fill((240, 240, 240))\n",
    "pygame.draw.line(surface, (0, 0, 0), (start_x, line_y), (end_x, line_y), 2)\n",
    "pygame.draw.rect(surface, (0, 0, 255), \n",
    "                 (end_x - target_w//2, line_y - target_h//2, target_w, target_h))\n",
    "pygame.draw.circle(surface, (255, 0, 0), (int(arrow_x), line_y), radius)\n",
    "\n",
    "img = np.transpose(pygame.surfarray.array3d(surface), (1,0,2))\n",
    "clear_output(wait=True)\n",
    "plt.figure(figsize=(10,3))\n",
    "plt.imshow(img)\n",
    "plt.axis('off')\n",
    "plt.show()"
   ]
  },
  {
   "cell_type": "markdown",
   "id": "f737f04e-5ad8-499e-b574-1cb8342aabdd",
   "metadata": {},
   "source": [
    "### La vision de Zenon"
   ]
  },
  {
   "cell_type": "code",
   "execution_count": null,
   "id": "21678f99-b016-4174-a92b-f04b3197238f",
   "metadata": {},
   "outputs": [
    {
     "data": {
      "image/png": "[encoded data removed]",
      "text/plain": [
       "<Figure size 1000x600 with 1 Axes>"
      ]
     },
     "metadata": {},
     "output_type": "display_data"
    },
    {
     "name": "stdout",
     "output_type": "stream",
     "text": [
      "Étape 12: t=1.2 → position=6.0m (+0.5m)\n"
     ]
    }
   ],
   "source": [
    "import pygame\n",
    "import numpy as np\n",
    "import matplotlib.pyplot as plt\n",
    "from IPython.display import display, clear_output\n",
    "import time\n",
    "\n",
    "# Initialiser pygame\n",
    "pygame.init()\n",
    "\n",
    "# Paramètres\n",
    "v = 5\n",
    "distance = 10\n",
    "dt = 0.1\n",
    "width, height = 800, 500\n",
    "surface = pygame.Surface((width, height))\n",
    "\n",
    "# Initialisation\n",
    "t = 0\n",
    "x = 0\n",
    "step = 0\n",
    "\n",
    "# Polices\n",
    "font = pygame.font.SysFont(None, 28)\n",
    "small_font = pygame.font.SysFont(None, 20)\n",
    "target_x = width - 50\n",
    "\n",
    "def draw_frame(x_progress, t, step):\n",
    "    surface.fill((240, 240, 240))\n",
    "    \n",
    "    start_x, end_x = 50, width-50\n",
    "    line_y = height//3\n",
    "    \n",
    "    # Ligne de trajectoire et position initiale\n",
    "    pygame.draw.line(surface, (0, 0, 0), (start_x, line_y), (end_x, line_y), 2)\n",
    "    pygame.draw.circle(surface, (0, 150, 0), (start_x, line_y), 5)\n",
    "    surface.blit(small_font.render(\"0\", True, (0, 100, 0)), (start_x-5, line_y+15))\n",
    "    \n",
    "    # Flèche (point rouge réduit)\n",
    "    arrow_x = start_x + (x_progress * (end_x-start_x))\n",
    "    pygame.draw.circle(surface, (255, 0, 0), (int(arrow_x), line_y), 8)  # moitié de la taille\n",
    "    \n",
    "    # Cible\n",
    "    pygame.draw.rect(surface, (0, 0, 255), (int(target_x)-5, line_y-25, 10, 50))\n",
    "    \n",
    "    # Échelle en dt\n",
    "    segment_length = (dt * v / distance) * (end_x-start_x)\n",
    "    total_segments = int(distance / (dt * v))\n",
    "    for i in range(1, total_segments + 1):\n",
    "        mark_x = start_x + i * segment_length\n",
    "        if mark_x > end_x: break\n",
    "        mark_height = 10 if i % 5 == 0 else 5\n",
    "        pygame.draw.line(surface, (150, 150, 150), \n",
    "                         (int(mark_x), line_y-mark_height), \n",
    "                         (int(mark_x), line_y+mark_height), 1)\n",
    "        if i % max(1,int(0.5/dt)) == 0:\n",
    "            surface.blit(small_font.render(f\"{i*dt:.1f}\", True, (100,100,100)), (int(mark_x)-10, line_y+15))\n",
    "    \n",
    "    # Texte info\n",
    "    surface.blit(font.render(f\"Étape {step}: t={t:.2f}s, x={x_progress*distance:.2f}m\", True, (0,0,0)), (50,50))\n",
    "    surface.blit(font.render(f\"Pas de temps (dt): {dt}s → Distance par pas: {dt*v:.2f}m\", True, (0,0,0)), (50,85))\n",
    "    if x_progress >= 1.0:\n",
    "        surface.blit(font.render(f\"Total des étapes: {step} → Temps total: {t:.2f}s\", True, (0,100,0)), (50,120))\n",
    "    \n",
    "    # Barre de progression\n",
    "    bar_y = height - 150\n",
    "    bar_height = 25\n",
    "    pygame.draw.rect(surface, (200, 200, 200), (50, bar_y, width-100, bar_height))\n",
    "    pygame.draw.rect(surface, (0, 150, 0), (50, bar_y, int((width-100) * x_progress), bar_height))\n",
    "    \n",
    "    # Pourcentage\n",
    "    surface.blit(font.render(f\"{x_progress*100:.1f}%\", True, (0,0,0)), (width//2-30, bar_y-30))\n",
    "    surface.blit(small_font.render(\"Échelle en unités de temps (dt)\", True, (100,100,100)), (50, bar_y-50))\n",
    "    \n",
    "    # Affichage matplotlib\n",
    "    img = np.transpose(pygame.surfarray.array3d(surface), (1,0,2))\n",
    "    plt.figure(figsize=(10,6))\n",
    "    plt.imshow(img)\n",
    "    plt.axis('off')\n",
    "    plt.show()\n",
    "\n",
    "# Affichage initial\n",
    "draw_frame(0, t, step)\n",
    "print(f\"Début: t={round(t,2)}s → position={round(x,2)}m\")\n",
    "\n",
    "# Simulation\n",
    "while x < distance:\n",
    "    time.sleep(0.8)\n",
    "    x_progress = min(x / distance, 1.0)\n",
    "    draw_frame(x_progress, t, step)\n",
    "    print(f\"Étape {step}: t={round(t,3)} → position={round(x,2)}m (+{round(dt*v,2)}m)\")\n",
    "    x += dt*v; t += dt; step += 1\n",
    "    clear_output(wait=True)\n",
    "\n",
    "draw_frame(1.0, t, step)\n",
    "print(f\"✓ Objectif atteint en {step} étapes - Position finale: {round(x,4)} m\")\n",
    "print(f\"Temps total: {t:.2f}s - Vitesse moyenne: {distance/t:.2f}m/s\")\n"
   ]
  },
  {
   "cell_type": "markdown",
   "id": "4e17af6b-0bed-45a1-842e-27dc4f245f59",
   "metadata": {},
   "source": [
    "## Conclusion : Le paradoxe de Zénon démasqué\n",
    "\n",
    "### Notre simulation révèle la faille\n",
    "\n",
    "Cette simulation révèle la faille logique du paradoxe de la flèche. En modélisant le mouvement avec différentes valeurs de dt, nous reproduisons - et résolvons - un piège similaire à celui de l'enfumeur antique grec :\n",
    "\n",
    "### La \"tricherie\" moderne\n",
    "Dans nos calculs numériques, nous pourrions tomber dans le même piège :\n",
    "1. **Pour calculer le mouvement** : nous utilisons `dt = 0.1s` et calculons `distance = vitesse × dt = 5 × 0.1 = 0.5m`\n",
    "2. **Pour \"observer\" le résultat** : nous regardons la position à l'instant t=0.1s et disons \"regardez, elle est immobile à cette position !\"\n",
    "3. **La conclusion fallacieuse** : \"Donc elle ne bouge jamais !\"\n",
    "\n",
    "### L'analogie révélatrice\n",
    "C'est comme dire :\n",
    "> *\"Pendant cette heure, la voiture a roulé à 100 km/h\"* (on utilise un intervalle pour définir le mouvement)\n",
    "> \n",
    "> *\"Maintenant, à cet instant précis, elle est immobile au kilomètre 100\"* (on nie le mouvement à l'instant)\n",
    "> \n",
    "> *\"Donc la voiture ne s'est jamais déplacée !\"*\n",
    "\n",
    "### La réponse décisive : le mouvement persiste toujours\n",
    "\n",
    "Notre simulation révèle la vérité fondamentale que Zénon ne pouvait pas voir :\n",
    "\n",
    "**Aussi petit que soit dt, la flèche continue de se déplacer pendant cet intervalle.**\n",
    "- Avec dt = 1s → elle parcourt 5m\n",
    "- Avec dt = 0.1s → elle parcourt 0.5m  \n",
    "- Avec dt = 0.001s → elle parcourt 0.005m\n",
    "- Même avec dt infinitésimal → le mouvement persiste !\n",
    "\n",
    "### Le verdict moderne\n",
    "\n",
    "Le mouvement ne \"disparaît\" jamais, même à l'échelle de l'instant. Ce que les mathématiques modernes appellent la \"vitesse instantanée\" n'est pas l'absence de mouvement, mais le mouvement à cet instant précis.\n",
    "\n",
    "**Zénon confondait \"instant infiniment bref\" avec \"absence de mouvement\".** Notre simulation montre que le mouvement est robuste : il survit à toutes les échelles de temps, du pas grossier de 1 seconde jusqu'à l'infinitésimal."
   ]
  },
  {
   "cell_type": "code",
   "execution_count": null,
   "id": "6b8a3f72-807a-4d2f-8120-f8914657e094",
   "metadata": {},
   "outputs": [],
   "source": []
  }
 ],
 "metadata": {
  "kernelspec": {
   "display_name": "Python (zenon)",
   "language": "python",
   "name": "zenon"
  },
  "language_info": {
   "codemirror_mode": {
    "name": "ipython",
    "version": 3
   },
   "file_extension": ".py",
   "mimetype": "text/x-python",
   "name": "python",
   "nbconvert_exporter": "python",
   "pygments_lexer": "ipython3",
   "version": "3.12.3"
  }
 },
 "nbformat": 4,
 "nbformat_minor": 5
}
